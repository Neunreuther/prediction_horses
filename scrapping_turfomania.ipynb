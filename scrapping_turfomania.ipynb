{
 "cells": [
  {
   "cell_type": "code",
   "execution_count": 8,
   "metadata": {},
   "outputs": [],
   "source": [
    "import pandas as pd\n",
    "import os\n",
    "from selenium import webdriver\n",
    "from selenium.webdriver.chrome.options import Options\n",
    "from selenium.webdriver.support.ui import WebDriverWait\n",
    "from selenium.webdriver.support import expected_conditions as EC\n",
    "from selenium.webdriver.common.by import By\n",
    "import time\n",
    "from bs4 import BeautifulSoup\n",
    "import os\n",
    "import random\n",
    "import locale\n",
    "from datetime import datetime"
   ]
  },
  {
   "cell_type": "markdown",
   "metadata": {},
   "source": [
    "# Function"
   ]
  },
  {
   "cell_type": "code",
   "execution_count": 2,
   "metadata": {},
   "outputs": [],
   "source": [
    "# Variable\n",
    "\n",
    "path_dossier = \"C:\\\\Users\\\\Alex\\\\Desktop\\\\pmu_data\""
   ]
  },
  {
   "cell_type": "code",
   "execution_count": 3,
   "metadata": {},
   "outputs": [],
   "source": [
    "def creer_dossier_course():\n",
    "    \"\"\"\n",
    "    Dans cette fonction je créer un dossier pour les courses qu'on sort aujourd'hui\n",
    "\n",
    "    à vérifier si necessaire\n",
    "    \"\"\"\n",
    "    date_actuelle = datetime.now().strftime(\"%Y-%m-%d\")\n",
    "    nom_dossier = f\"scrapping_{date_actuelle}\"\n",
    "    chemin_dossier = os.path.join(path_dossier, nom_dossier)\n",
    "    try:\n",
    "        os.mkdir(chemin_dossier)\n",
    "        print(f\"Dossier créé : {nom_dossier}\")\n",
    "    except FileExistsError:\n",
    "        print(f\"Le dossier {nom_dossier} existe déjà.\")\n",
    "\n",
    "\n",
    "def accept_coockies(driver:webdriver.Chrome):\n",
    "    \"\"\" \n",
    "    Dans cette fonction je mets un temps au pire entre 5 et 8 secondes, j'attends l'affichage\n",
    "    du bouton coockie et je click dessus.\n",
    "    \"\"\"\n",
    "    time.sleep(random.uniform(5,8))\n",
    "    WebDriverWait(driver, 10).until(EC.visibility_of_element_located((By.CLASS_NAME, \"fc-cta-consent\"))).click()\n",
    "    return driver"
   ]
  },
  {
   "cell_type": "code",
   "execution_count": 7,
   "metadata": {},
   "outputs": [
    {
     "name": "stdout",
     "output_type": "stream",
     "text": [
      "Dossier créé : scrapping_2024-11-10\n"
     ]
    }
   ],
   "source": [
    "creer_dossier_course()"
   ]
  },
  {
   "cell_type": "markdown",
   "metadata": {},
   "source": [
    "# test"
   ]
  },
  {
   "cell_type": "code",
   "execution_count": 19,
   "metadata": {},
   "outputs": [
    {
     "name": "stdout",
     "output_type": "stream",
     "text": [
      "Cliquant sur le lien : Dimanche 10 Novembre 2024\n",
      "Cliquant sur le lien : Dimanche 10 Novembre 2024\n",
      "Cliquant sur le lien : Dimanche 10 Novembre 2024\n",
      "Cliquant sur le lien : Dimanche 10 Novembre 2024\n",
      "Cliquant sur le lien : Dimanche 10 Novembre 2024\n",
      "Cliquant sur le lien : Dimanche 10 Novembre 2024\n",
      "Cliquant sur le lien : Dimanche 10 Novembre 2024\n"
     ]
    }
   ],
   "source": [
    "driver= webdriver.Chrome()\n",
    "driver.get(\"https://www.turfomania.fr/partants-programmes/\")\n",
    "driver = accept_coockies(driver)\n",
    "links = driver.find_elements(By.TAG_NAME, \"a\")\n",
    "for link in links:\n",
    "    if date_du_jour in link.text:\n",
    "        print(f\"Cliquant sur le lien : {link.text}\")"
   ]
  },
  {
   "cell_type": "code",
   "execution_count": 18,
   "metadata": {},
   "outputs": [
    {
     "name": "stdout",
     "output_type": "stream",
     "text": [
      "Dimanche 10 Novembre 2024\n"
     ]
    }
   ],
   "source": [
    "locale.setlocale(locale.LC_TIME, 'fr_FR.UTF-8')  \n",
    "date_du_jour = datetime.now().strftime(\"%A %d %B %Y\")\n",
    "date_du_jour = ' '.join([word.capitalize() for word in date_du_jour.split()])\n",
    "print(date_du_jour)\n"
   ]
  },
  {
   "cell_type": "code",
   "execution_count": null,
   "metadata": {},
   "outputs": [],
   "source": [
    "links = driver.find_elements(By.TAG_NAME, \"a\")\n",
    "\n",
    "for link in links:\n",
    "    if date_du_jour in link.text:\n",
    "        print(f\"Cliquant sur le lien : {link.text}\")\n",
    "        \n",
    "        link.click()\n",
    "        \n",
    "        time.sleep(random.uniform(3,5))\n",
    "\n",
    "        # Effectuer votre scraping ou extraction ici après avoir cliqué\n",
    "        # (Exemple : extraire des informations d'une nouvelle page)\n",
    "\n",
    "        driver.back()\n",
    "        \n",
    "        links = driver.find_elements(By.TAG_NAME, \"a\")\n",
    "\n",
    "driver.quit()\n"
   ]
  },
  {
   "cell_type": "markdown",
   "metadata": {},
   "source": [
    "Liste des courses fr :"
   ]
  },
  {
   "cell_type": "code",
   "execution_count": null,
   "metadata": {},
   "outputs": [],
   "source": []
  }
 ],
 "metadata": {
  "kernelspec": {
   "display_name": "base",
   "language": "python",
   "name": "python3"
  },
  "language_info": {
   "codemirror_mode": {
    "name": "ipython",
    "version": 3
   },
   "file_extension": ".py",
   "mimetype": "text/x-python",
   "name": "python",
   "nbconvert_exporter": "python",
   "pygments_lexer": "ipython3",
   "version": "3.9.7"
  }
 },
 "nbformat": 4,
 "nbformat_minor": 2
}
