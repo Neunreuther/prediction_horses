{
 "cells": [
  {
   "cell_type": "code",
   "execution_count": null,
   "metadata": {},
   "outputs": [
    {
     "name": "stdout",
     "output_type": "stream",
     "text": [
      "Bouton cliqué!\n",
      "Bouton cliqué!\n",
      "Bouton cliqué!\n"
     ]
    }
   ],
   "source": [
    "import tkinter as tk\n",
    "\n",
    "def action_bouton():\n",
    "    print(\"Bouton cliqué!\")\n",
    "\n",
    "fenetre = tk.Tk()\n",
    "fenetre.title(\"Exemple de bouton\")\n",
    "fenetre.geometry(\"300x200\")\n",
    "\n",
    "bouton = tk.Button(fenetre, text=\"Cliquez ici\", command=action_bouton)\n",
    "bouton.pack(pady=20)\n",
    "\n",
    "fenetre.mainloop()\n"
   ]
  }
 ],
 "metadata": {
  "kernelspec": {
   "display_name": "Python 3",
   "language": "python",
   "name": "python3"
  },
  "language_info": {
   "codemirror_mode": {
    "name": "ipython",
    "version": 3
   },
   "file_extension": ".py",
   "mimetype": "text/x-python",
   "name": "python",
   "nbconvert_exporter": "python",
   "pygments_lexer": "ipython3",
   "version": "3.11.9"
  }
 },
 "nbformat": 4,
 "nbformat_minor": 2
}
