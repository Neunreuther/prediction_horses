{
 "cells": [
  {
   "cell_type": "code",
   "execution_count": 2,
   "metadata": {},
   "outputs": [],
   "source": [
    "import pandas as pd\n"
   ]
  },
  {
   "cell_type": "code",
   "execution_count": 12,
   "metadata": {},
   "outputs": [
    {
     "data": {
      "text/html": [
       "<div>\n",
       "<style scoped>\n",
       "    .dataframe tbody tr th:only-of-type {\n",
       "        vertical-align: middle;\n",
       "    }\n",
       "\n",
       "    .dataframe tbody tr th {\n",
       "        vertical-align: top;\n",
       "    }\n",
       "\n",
       "    .dataframe thead th {\n",
       "        text-align: right;\n",
       "    }\n",
       "</style>\n",
       "<table border=\"1\" class=\"dataframe\">\n",
       "  <thead>\n",
       "    <tr style=\"text-align: right;\">\n",
       "      <th></th>\n",
       "      <th>Nom du Cheval</th>\n",
       "      <th>Jockey</th>\n",
       "      <th>Cote</th>\n",
       "      <th>Résultat</th>\n",
       "    </tr>\n",
       "  </thead>\n",
       "  <tbody>\n",
       "    <tr>\n",
       "      <th>0</th>\n",
       "      <td>Fleur d'Automne</td>\n",
       "      <td>Jean Dupont</td>\n",
       "      <td>3.5</td>\n",
       "      <td>1er</td>\n",
       "    </tr>\n",
       "    <tr>\n",
       "      <th>1</th>\n",
       "      <td>Roi des Cieux</td>\n",
       "      <td>Marie Curie</td>\n",
       "      <td>2.1</td>\n",
       "      <td>2ème</td>\n",
       "    </tr>\n",
       "    <tr>\n",
       "      <th>2</th>\n",
       "      <td>Vitesse d'Éclair</td>\n",
       "      <td>Paul Martin</td>\n",
       "      <td>5.0</td>\n",
       "      <td>3ème</td>\n",
       "    </tr>\n",
       "    <tr>\n",
       "      <th>3</th>\n",
       "      <td>Tigre d'Argent</td>\n",
       "      <td>Lucie Bernard</td>\n",
       "      <td>7.2</td>\n",
       "      <td>Non placé</td>\n",
       "    </tr>\n",
       "  </tbody>\n",
       "</table>\n",
       "</div>"
      ],
      "text/plain": [
       "      Nom du Cheval         Jockey  Cote   Résultat\n",
       "0   Fleur d'Automne    Jean Dupont   3.5        1er\n",
       "1     Roi des Cieux    Marie Curie   2.1       2ème\n",
       "2  Vitesse d'Éclair    Paul Martin   5.0       3ème\n",
       "3    Tigre d'Argent  Lucie Bernard   7.2  Non placé"
      ]
     },
     "execution_count": 12,
     "metadata": {},
     "output_type": "execute_result"
    }
   ],
   "source": [
    "data = {\n",
    "    'Nom du Cheval': ['Fleur d\\'Automne', 'Roi des Cieux', 'Vitesse d\\'Éclair', 'Tigre d\\'Argent'],\n",
    "    'Jockey': ['Jean Dupont', 'Marie Curie', 'Paul Martin', 'Lucie Bernard'],\n",
    "    'Cote': [3.5, 2.1, 5.0, 7.2],\n",
    "    'Résultat': ['1er', '2ème', '3ème', 'Non placé']\n",
    "}\n",
    "\n",
    "df_pmu = pd.DataFrame(data)\n",
    "df_pmu\n"
   ]
  },
  {
   "cell_type": "markdown",
   "metadata": {},
   "source": [
    "# Fonction"
   ]
  }
 ],
 "metadata": {
  "kernelspec": {
   "display_name": "Python 3",
   "language": "python",
   "name": "python3"
  },
  "language_info": {
   "codemirror_mode": {
    "name": "ipython",
    "version": 3
   },
   "file_extension": ".py",
   "mimetype": "text/x-python",
   "name": "python",
   "nbconvert_exporter": "python",
   "pygments_lexer": "ipython3",
   "version": "3.11.9"
  }
 },
 "nbformat": 4,
 "nbformat_minor": 2
}
